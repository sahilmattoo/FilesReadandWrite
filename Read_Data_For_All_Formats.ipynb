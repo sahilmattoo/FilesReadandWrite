{
 "cells": [
  {
   "cell_type": "code",
   "execution_count": 1,
   "metadata": {},
   "outputs": [],
   "source": [
    "#!pip install slate3k\n",
    "#!pip install docx2txt\n",
    "import os\n",
    "import time\n",
    "import re\n",
    "import docx2txt # docx parser\n",
    "import slate3k as slate # pdf parser\n",
    "from pptx import Presentation # ppt Parser\n",
    "import shutil\n",
    "\n",
    "## Ignore Logging issue reported due to pdf \n",
    "import logging\n",
    "logging.propagate = False \n",
    "logging.getLogger().setLevel(logging.ERROR)"
   ]
  },
  {
   "cell_type": "code",
   "execution_count": 2,
   "metadata": {},
   "outputs": [],
   "source": [
    "# Define a DataFrame"
   ]
  },
  {
   "cell_type": "code",
   "execution_count": 3,
   "metadata": {},
   "outputs": [],
   "source": [
    "import pandas as pd\n",
    "DF = pd.DataFrame()"
   ]
  },
  {
   "cell_type": "code",
   "execution_count": 9,
   "metadata": {},
   "outputs": [],
   "source": [
    "#Set the path where all the folders with Docs are present\n",
    "path =r'C:\\Users\\smattoo5\\OneDrive - DXC Production\\DXC-NLP\\Read Data\\Technology\\Data'"
   ]
  },
  {
   "cell_type": "markdown",
   "metadata": {},
   "source": [
    "# Define Function for reading \n",
    "    docx\n",
    "    pdf\n",
    "    pptx"
   ]
  },
  {
   "cell_type": "code",
   "execution_count": 5,
   "metadata": {},
   "outputs": [],
   "source": [
    "def readWord(filename):\n",
    "    #print(filename)\n",
    "    text = docx2txt.process(filename)\n",
    "    #print(my_text)\n",
    "    return text\n",
    "    #return docx2txt.process(filename)\n",
    "    \n",
    "#print(my_text)\n",
    "\n",
    "def readPdf(filename):\n",
    "    pdfText= ''\n",
    "    with open(filename,'rb') as f:\n",
    "        text = slate.PDF(f)\n",
    "    for each in text:\n",
    "        pdfText = pdfText+each\n",
    "    return pdfText\n",
    "\n",
    "def readPPTX(filename):\n",
    "    pptxtext = ''\n",
    "    prs = Presentation(filename)\n",
    "    for slide in prs.slides:\n",
    "        for shape in slide.shapes:\n",
    "            if hasattr(shape, \"text\"):\n",
    "                pptxtext = pptxtext + shape.text\n",
    "    return pptxtext\n"
   ]
  },
  {
   "cell_type": "code",
   "execution_count": 6,
   "metadata": {},
   "outputs": [],
   "source": [
    "# Define Varibale Data Dictionary having all the Documents\n",
    "# Will Convert the Dictionary into Dataframe\n",
    "dataDictionary ={}"
   ]
  },
  {
   "cell_type": "code",
   "execution_count": 10,
   "metadata": {},
   "outputs": [
    {
     "name": "stdout",
     "output_type": "stream",
     "text": [
      "Cant Parse the File 103033-staas-storage-service-battlecard-english-letter.doc  for Document type as  doc\n",
      "Cant Parse the File Test2 - Copy.ppt  for Document type as  ppt\n",
      "Cant Parse the File Test2.ppt  for Document type as  ppt\n",
      "Cant Parse the File TestDoc.doc  for Document type as  doc\n"
     ]
    }
   ],
   "source": [
    "for i in os.walk(path):\n",
    "    counter = 0\n",
    "\n",
    "    for j in i[2]:\n",
    "        #print(j)\n",
    "        counter  = counter+1\n",
    "        \n",
    "        doctype = j.split(\".\")[1]\n",
    "        #print(doctype)\n",
    "        if doctype == 'docx':\n",
    "            \n",
    "            filename = j\n",
    "            fn =\"Data\"+\"\\\\\"+filename\n",
    "            readDoc = readWord(fn)\n",
    "            dataDictionary.update({counter:[filename, readDoc, doctype]})\n",
    "            \n",
    "        elif doctype == 'pdf':\n",
    "            filename = j\n",
    "            fn =\"Data\"+\"\\\\\"+filename\n",
    "            readDoc = readPdf(fn)\n",
    "            dataDictionary.update({counter:[filename, readDoc, doctype]})\n",
    "            \n",
    "        elif doctype == 'pptx':\n",
    "            filename = j\n",
    "            fn =\"Data\"+\"\\\\\"+filename\n",
    "            readDoc = readPPTX(fn)\n",
    "            dataDictionary.update({counter:[filename, readDoc, doctype]})\n",
    "            \n",
    "        ## List of Documents which we couldnot Parse    \n",
    "        else:\n",
    "            \n",
    "            filename = j\n",
    "            print(\"Cant Parse the File\", filename, \" for Document type as \", doctype)\n",
    "            fn =\"Data\"+\"\\\\\"+filename\n",
    "            shutil.copy(fn, './NotRead')"
   ]
  },
  {
   "cell_type": "code",
   "execution_count": 11,
   "metadata": {},
   "outputs": [
    {
     "data": {
      "text/plain": [
       "8"
      ]
     },
     "execution_count": 11,
     "metadata": {},
     "output_type": "execute_result"
    }
   ],
   "source": [
    "len(dataDictionary)"
   ]
  },
  {
   "cell_type": "code",
   "execution_count": 12,
   "metadata": {},
   "outputs": [
    {
     "data": {
      "text/html": [
       "<div>\n",
       "<style scoped>\n",
       "    .dataframe tbody tr th:only-of-type {\n",
       "        vertical-align: middle;\n",
       "    }\n",
       "\n",
       "    .dataframe tbody tr th {\n",
       "        vertical-align: top;\n",
       "    }\n",
       "\n",
       "    .dataframe thead th {\n",
       "        text-align: right;\n",
       "    }\n",
       "</style>\n",
       "<table border=\"1\" class=\"dataframe\">\n",
       "  <thead>\n",
       "    <tr style=\"text-align: right;\">\n",
       "      <th></th>\n",
       "      <th>Title</th>\n",
       "      <th>Description</th>\n",
       "      <th>DocType</th>\n",
       "    </tr>\n",
       "  </thead>\n",
       "  <tbody>\n",
       "    <tr>\n",
       "      <th>2</th>\n",
       "      <td>103033-staas-storage-service-battlecard-englis...</td>\n",
       "      <td>STaaS – Archive\\n\\n\\n\\n\\n\\n\\n\\nSTORAGE AS A SE...</td>\n",
       "      <td>docx</td>\n",
       "    </tr>\n",
       "    <tr>\n",
       "      <th>3</th>\n",
       "      <td>103035-staas-storage-service-flyer-english-let...</td>\n",
       "      <td>Storage as a Service\\n\\n\\n\\n\\n\\nSTORAGE AS A S...</td>\n",
       "      <td>docx</td>\n",
       "    </tr>\n",
       "    <tr>\n",
       "      <th>4</th>\n",
       "      <td>20190307 Intelsat Digital Transformation vF.pdf</td>\n",
       "      <td>March 8th, 2019\\n\\nDigital Transformation\\n\\nP...</td>\n",
       "      <td>pdf</td>\n",
       "    </tr>\n",
       "    <tr>\n",
       "      <th>5</th>\n",
       "      <td>88333-infrastructure-assessment-cloud-client-p...</td>\n",
       "      <td>Infrastructure Assessment for Cloud (IA4C)Clie...</td>\n",
       "      <td>pptx</td>\n",
       "    </tr>\n",
       "    <tr>\n",
       "      <th>6</th>\n",
       "      <td>Measuring The Cost Of IT Consolidation.pdf</td>\n",
       "      <td>November 12, 2007 \\n\\nMeasuring The Cost Of IT...</td>\n",
       "      <td>pdf</td>\n",
       "    </tr>\n",
       "    <tr>\n",
       "      <th>7</th>\n",
       "      <td>Test.docx</td>\n",
       "      <td>STaaS – Archive\\n\\n\\n\\n\\n\\n\\n\\nSTORAGE AS A SE...</td>\n",
       "      <td>docx</td>\n",
       "    </tr>\n",
       "    <tr>\n",
       "      <th>8</th>\n",
       "      <td>Test.pdf</td>\n",
       "      <td>March 8th, 2019\\n\\nDigital Transformation\\n\\nP...</td>\n",
       "      <td>pdf</td>\n",
       "    </tr>\n",
       "    <tr>\n",
       "      <th>9</th>\n",
       "      <td>Test1.pptx</td>\n",
       "      <td>Infrastructure Assessment for Cloud (IA4C)Clie...</td>\n",
       "      <td>pptx</td>\n",
       "    </tr>\n",
       "  </tbody>\n",
       "</table>\n",
       "</div>"
      ],
      "text/plain": [
       "                                               Title  \\\n",
       "2  103033-staas-storage-service-battlecard-englis...   \n",
       "3  103035-staas-storage-service-flyer-english-let...   \n",
       "4    20190307 Intelsat Digital Transformation vF.pdf   \n",
       "5  88333-infrastructure-assessment-cloud-client-p...   \n",
       "6         Measuring The Cost Of IT Consolidation.pdf   \n",
       "7                                          Test.docx   \n",
       "8                                           Test.pdf   \n",
       "9                                         Test1.pptx   \n",
       "\n",
       "                                         Description DocType  \n",
       "2  STaaS – Archive\\n\\n\\n\\n\\n\\n\\n\\nSTORAGE AS A SE...    docx  \n",
       "3  Storage as a Service\\n\\n\\n\\n\\n\\nSTORAGE AS A S...    docx  \n",
       "4  March 8th, 2019\\n\\nDigital Transformation\\n\\nP...     pdf  \n",
       "5  Infrastructure Assessment for Cloud (IA4C)Clie...    pptx  \n",
       "6  November 12, 2007 \\n\\nMeasuring The Cost Of IT...     pdf  \n",
       "7  STaaS – Archive\\n\\n\\n\\n\\n\\n\\n\\nSTORAGE AS A SE...    docx  \n",
       "8  March 8th, 2019\\n\\nDigital Transformation\\n\\nP...     pdf  \n",
       "9  Infrastructure Assessment for Cloud (IA4C)Clie...    pptx  "
      ]
     },
     "execution_count": 12,
     "metadata": {},
     "output_type": "execute_result"
    }
   ],
   "source": [
    "# Transform Dictionary to DataFrame\n",
    "def Trans_to_dataframe(datadictionary):\n",
    "    df = pd.DataFrame(datadictionary).transpose()\n",
    "    df.columns=['Title', 'Description', 'DocType']\n",
    "    return df\n",
    "\n",
    "DF = Trans_to_dataframe(dataDictionary)\n",
    "DF"
   ]
  },
  {
   "cell_type": "code",
   "execution_count": null,
   "metadata": {},
   "outputs": [],
   "source": [
    "import time"
   ]
  },
  {
   "cell_type": "code",
   "execution_count": null,
   "metadata": {},
   "outputs": [],
   "source": []
  }
 ],
 "metadata": {
  "kernelspec": {
   "display_name": "Python 3",
   "language": "python",
   "name": "python3"
  },
  "language_info": {
   "codemirror_mode": {
    "name": "ipython",
    "version": 3
   },
   "file_extension": ".py",
   "mimetype": "text/x-python",
   "name": "python",
   "nbconvert_exporter": "python",
   "pygments_lexer": "ipython3",
   "version": "3.5.5"
  }
 },
 "nbformat": 4,
 "nbformat_minor": 2
}
